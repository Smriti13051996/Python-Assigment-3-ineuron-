{
 "cells": [
  {
   "cell_type": "code",
   "execution_count": 1,
   "id": "0c2ec6ff-0119-4246-a688-a61e4abc6317",
   "metadata": {},
   "outputs": [
    {
     "name": "stdout",
     "output_type": "stream",
     "text": [
      "15\n"
     ]
    }
   ],
   "source": [
    "#Write a Python program to implement your own myreduce() function which works exactly like Python's built-in function reduce().\n",
    "def myreduce(function, iterable, initial=None):\n",
    "    \"\"\"\n",
    "    A function that works similar to Python's built-in reduce() function.\n",
    "\n",
    "    Args:\n",
    "    function: A function that takes two arguments and returns a single value.\n",
    "    iterable: An iterable that will be reduced using the function.\n",
    "    initial (optional): An initial value that will be used to start the reduction.\n",
    "\n",
    "    Returns:\n",
    "    The result of the reduction.\n",
    "    \"\"\"\n",
    "    iterator = iter(iterable)\n",
    "    if initial is None:\n",
    "        try:\n",
    "            initial = next(iterator)\n",
    "        except StopIteration:\n",
    "            raise TypeError('myreduce() of empty sequence with no initial value')\n",
    "    accumulator = initial\n",
    "    for value in iterator:\n",
    "        accumulator = function(accumulator, value)\n",
    "    return accumulator\n",
    "def add(x, y):\n",
    "    return x + y\n",
    "\n",
    "numbers = [1, 2, 3, 4, 5]\n",
    "result = myreduce(add, numbers)\n",
    "print(result)"
   ]
  },
  {
   "cell_type": "code",
   "execution_count": 2,
   "id": "176f74b0-8bb7-4c3d-a999-2a6bd99df85c",
   "metadata": {},
   "outputs": [
    {
     "name": "stdout",
     "output_type": "stream",
     "text": [
      "[2, 4, 6, 8]\n"
     ]
    }
   ],
   "source": [
    "#Write a Python program to implement your own myfilter() function which works exactly like Python's built-in function filter().\n",
    "def myfilter(function, iterable):\n",
    "    \"\"\"\n",
    "    A function that works similar to Python's built-in filter() function.\n",
    "\n",
    "    Args:\n",
    "    function: A function that takes one argument and returns a boolean value.\n",
    "    iterable: An iterable that will be filtered using the function.\n",
    "\n",
    "    Returns:\n",
    "    An iterator of the elements that pass the filter.\n",
    "    \"\"\"\n",
    "    for value in iterable:\n",
    "        if function(value):\n",
    "            yield value\n",
    "def is_even(num):\n",
    "    return num % 2 == 0\n",
    "\n",
    "numbers = [1, 2, 3, 4, 5, 6, 7, 8, 9]\n",
    "result = myfilter(is_even, numbers)\n",
    "print(list(result))"
   ]
  },
  {
   "cell_type": "code",
   "execution_count": 3,
   "id": "1818c8f2-9286-465f-a9dc-c5df56ec47e4",
   "metadata": {},
   "outputs": [
    {
     "name": "stdout",
     "output_type": "stream",
     "text": [
      "['x', 'xx', 'xxx', 'xxxx', 'y', 'yy', 'yyy', 'yyyy', 'z', 'zz', 'zzz', 'zzzz']\n"
     ]
    }
   ],
   "source": [
    "#Use list comprehension to generate the following lists using python: ['x', 'xx', 'xxx', 'xxxx', 'y', 'yy', 'yyy', 'yyyy', 'z', 'zz', 'zzz', 'zzzz'].\n",
    "my_list = [char * num for char in ['x', 'y', 'z'] for num in range(1, 5)]\n",
    "print(my_list)"
   ]
  },
  {
   "cell_type": "code",
   "execution_count": 4,
   "id": "f26edc74-4de4-48f9-8b34-027335b20873",
   "metadata": {},
   "outputs": [
    {
     "name": "stdout",
     "output_type": "stream",
     "text": [
      "['x', 'y', 'z', 'xx', 'yy', 'zz', 'xxx', 'yyy', 'zzz', 'xxxx', 'yyyy', 'zzzz']\n"
     ]
    }
   ],
   "source": [
    "#Use list comprehension to generate the following lists using python: ['x', 'y', 'z', 'xx', 'yy', 'zz', 'xxx', 'yyy', 'zzz', 'xxxx', 'yyyy', 'zzzz'].\n",
    "my_list = [char * num for num in range(1, 5) for char in ['x', 'y', 'z']]\n",
    "print(my_list)"
   ]
  },
  {
   "cell_type": "code",
   "execution_count": 5,
   "id": "21eff668-a55d-4305-806f-766d7780fe9f",
   "metadata": {},
   "outputs": [
    {
     "name": "stdout",
     "output_type": "stream",
     "text": [
      "[[2], [3], [4], [3], [4], [5], [4], [5], [6]]\n",
      "[[2, 3, 4, 5], [3, 4, 5, 6], [4, 5, 6, 7], [5, 6, 7, 8]]\n"
     ]
    }
   ],
   "source": [
    "#Use list comprehension to generate the following lists using python: [[2], [3], [4], [3], [4], [5], [4], [5], [6]] [[2, 3, 4, 5], [3, 4, 5, 6],[4, 5, 6, 7], [5, 6, 7, 8]].\n",
    "list1 = [[num] for num in range(2, 5)] + [[num] for num in range(3, 6)] + [[num] for num in range(4, 7)]\n",
    "list2 = [[num, num+1, num+2, num+3] for num in range(2, 6)]\n",
    "print(list1)\n",
    "print(list2)"
   ]
  },
  {
   "cell_type": "code",
   "execution_count": 6,
   "id": "b70d6ec7-03b4-4b27-bbd4-ba04a8eea0db",
   "metadata": {},
   "outputs": [
    {
     "name": "stdout",
     "output_type": "stream",
     "text": [
      "[(1, 1), (2, 1), (3, 1), (1, 2), (2, 2), (3, 2), (1, 3), (2, 3), (3, 3)]\n"
     ]
    }
   ],
   "source": [
    "#Use list comprehension to generate the following lists using python: [(1, 1), (2, 1), (3, 1), (1, 2), (2, 2), (3, 2), (1, 3), (2, 3), (3, 3)].\n",
    "my_list = [(x, y) for y in range(1, 4) for x in range(1, 4)]\n",
    "print(my_list)"
   ]
  },
  {
   "cell_type": "code",
   "execution_count": null,
   "id": "ba8bae0c-3a6f-44a2-b2b9-19b1bdcb13b1",
   "metadata": {},
   "outputs": [],
   "source": []
  }
 ],
 "metadata": {
  "kernelspec": {
   "display_name": "Python 3 (ipykernel)",
   "language": "python",
   "name": "python3"
  },
  "language_info": {
   "codemirror_mode": {
    "name": "ipython",
    "version": 3
   },
   "file_extension": ".py",
   "mimetype": "text/x-python",
   "name": "python",
   "nbconvert_exporter": "python",
   "pygments_lexer": "ipython3",
   "version": "3.10.6"
  }
 },
 "nbformat": 4,
 "nbformat_minor": 5
}
